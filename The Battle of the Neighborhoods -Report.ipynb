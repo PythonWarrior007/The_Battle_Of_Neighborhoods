{
 "cells": [
  {
   "cell_type": "markdown",
   "metadata": {},
   "source": [
    "# <center><u> The Battle of the Neighborhoods : Report "
   ]
  },
  {
   "cell_type": "markdown",
   "metadata": {},
   "source": [
    "##  <U> Table of contents\n",
    "\n",
    "\n",
    "<a id = \"1\"> 1. Introduction to Problem Statement </a>\n",
    "\n",
    "<a id = \"2\"> 2. Source of Data </a>\n",
    "\n",
    "<a id = \"3\"> 3. Methodology </a>\n",
    "\n",
    "<a id = \"4\"> 4. Analysis </a>\n",
    "\n",
    "<a id = \"5\"> 5. Results and Discussion </a>\n",
    "\n",
    "<a id = \"6\"> 6. Conclusion </a>\n",
    "\n",
    "\n"
   ]
  },
  {
   "cell_type": "markdown",
   "metadata": {},
   "source": [
    "## 1. <u> Introduction to Problem statement"
   ]
  },
  {
   "cell_type": "markdown",
   "metadata": {},
   "source": [
    "In this project we will try to find the best possible location for a resturant to open up in the locality of Toronto, Canada.\n",
    "\n",
    "We will try to help out by suggesting the most suitable location to someone trying to open up a new resturant in the city \n",
    "keeping various factors in mind such as the nearby population and competitors around so that it can make the maximum profit.\n",
    "\n",
    "For a better start we will try to identify the places with less competiton which arnt already too crowded with resturants and\n",
    "also will consider the minimum possible distane from major city points so that more people can access the place.\n",
    "\n",
    "So using Data science we will be trying to identify the most promising neighborhoods and zero down to the best possible location."
   ]
  },
  {
   "cell_type": "markdown",
   "metadata": {},
   "source": [
    "## 2. <u> Source of Data"
   ]
  },
  {
   "cell_type": "markdown",
   "metadata": {},
   "source": [
    "To proceed with the identification of the neighborhoods of Toronto,Canada we will go for the wiki page consisting the postal\n",
    "codes of the area around. So our first source of data shall be from: https://en.wikipedia.org/wiki/List_of_postal_codes_of_Canada:_M\n",
    "\n",
    "Also the details of the existing resturants and the neighborhood of their location will be accessed from __FourSquare__\n",
    "            "
   ]
  },
  {
   "cell_type": "markdown",
   "metadata": {},
   "source": [
    "We need to evaluate the existing resturants in the neighborhood to identify the locations where less number of resturants are\n",
    "located which will substantially decrease the competition.\n",
    "\n",
    "Also we need to focus upon the age group of the people in that neighborhood as to know how the new resturant is going to cater \n",
    "the needs and attract more people.\n",
    "\n",
    "And finally we need to acertain that the location selected should be minimum from the main city so that more people can access\n",
    "it given that the first two condtions are fullfilled."
   ]
  },
  {
   "cell_type": "markdown",
   "metadata": {},
   "source": [
    "## 3. <u> Metholodogy"
   ]
  },
  {
   "cell_type": "markdown",
   "metadata": {},
   "source": [
    "For suggesting the best possible location to start up a new resturant in the neighborhood of Toronto,Canada we will be evaluating\n",
    "the data containg the different localities with their postal codes as well as th population.\n",
    "\n",
    "Now to proceed with the problem statement as discussed we are going to use “K-Means Clustering Algorithm . \n",
    "K-means clustering is a type of unsupervised learning, which is used when the data is unlabelled.\n",
    "(i.e., data without defined categories or groups). The goal of this algorithm is to find groups in the data, with the \n",
    "number of groups represented by the variable K. The algorithm works iteratively to assign each data point to one of K \n",
    "groups based on the features that are provided. Data points are clustered based on feature similarity. \n",
    "\n",
    "\n",
    "The centroids of the K clusters, which can be used to label new data Labels for the training data (each data point is \n",
    "assigned to a single cluster)\n",
    "\n",
    " __Process followed:__\n",
    "\n",
    "1. Using the postal codes and neighborhood information we will find the latitude and longitude of the existing resturants.\n",
    "   Also what kind of resturants are present already so that the new resturant can be less common than the existing ones.\n",
    "        \n",
    "2. We will be using K-Means clustering to identify the less dense areas with resturants to pick up the suitable locations.\n",
    "    \n",
    "3. Among these locations we will consider areas of less resturant density in a radius of 500 meters and show the same over\n",
    "   interective map to have a beter understanding."
   ]
  },
  {
   "cell_type": "markdown",
   "metadata": {},
   "source": [
    " #   4. <u> Analysis  "
   ]
  },
  {
   "cell_type": "markdown",
   "metadata": {},
   "source": [
    "__Identifying data source and data cleaning :__"
   ]
  },
  {
   "cell_type": "markdown",
   "metadata": {},
   "source": [
    "To proceed with we will be using the wiki data to get the postal codes of the neighborhoods in Toronto,Canada. \n",
    "After accesing the particular table from the wiki page we need to store the data into a data frame and clean it further as\n",
    "to be used for analysis. Also we need to combine the neighborhoods with similar borough."
   ]
  },
  {
   "cell_type": "markdown",
   "metadata": {},
   "source": [
    "__Getting location for the neighborhoods :__"
   ]
  },
  {
   "cell_type": "markdown",
   "metadata": {},
   "source": [
    "Next we need to get the dataset with the latitude and longitude along with the postal codes and combine this data set with \n",
    "the neighborhood dataset so the in the resulting data frame we have all the details of Postal code, Brough, Neighborhood, Latitude & Longitude. "
   ]
  },
  {
   "cell_type": "markdown",
   "metadata": {},
   "source": [
    "__Get resturant details nearby :__"
   ]
  },
  {
   "cell_type": "markdown",
   "metadata": {},
   "source": [
    "Once the dataframe is ready with all the necessary columns as discussed above we will be using Foursquare API to get the\n",
    "resturant venus available around. Then we need to filter out the venus with the top 10 most common venues for each neighborhood."
   ]
  },
  {
   "cell_type": "markdown",
   "metadata": {},
   "source": [
    "__Creating clusters :__"
   ]
  },
  {
   "cell_type": "markdown",
   "metadata": {},
   "source": [
    "For the start we will assume 5 clusters and using K-Cluster algorithm we will proceed to come up with 5 different clusters\n",
    "in the city of Toronto with similar set of venues. Once the set of clusters are made we will explore each one of them to identify the Borough and neighborhoods with the maximum number of resturants and the types of them.\n",
    "\n"
   ]
  },
  {
   "cell_type": "markdown",
   "metadata": {},
   "source": [
    "## 5. <u> Results and Discussion"
   ]
  },
  {
   "cell_type": "markdown",
   "metadata": {},
   "source": [
    "On our analysis as discussed above we have seen that there are different types of resturants spread all over Toronto. Out of \n",
    "them we can filter out few of the places which have low density of resturants compared to the other neighborhoods.\n",
    "Even though it is easy to assume that the places with the maximum number of resturants also signifies more customer demand but\n",
    "since the density of resturants are more for the places it clearly states that there are more options available for the people\n",
    "of that neighborhood to choose from already.\n",
    "\n",
    "This subsequently increases the competition for a new resturant to open up in these areas even though crowd is more. The analysis \n",
    "shows that out of the clusters formed specifically cluster 1 & 5 has a larger density of resturants.\n",
    "\n",
    "Hence we need to evaluate the clusters and the neighborhoods further to understant the locations that are still less dense with\n",
    "resturants and still have a considerable amount of population surrounding them."
   ]
  },
  {
   "cell_type": "markdown",
   "metadata": {},
   "source": [
    "# 6. <u> Conclusion"
   ]
  },
  {
   "cell_type": "markdown",
   "metadata": {},
   "source": [
    "With the help of this project we were able to analyze the neighborhoods in Canada which are more preferable to open a new \n",
    "resturant business and thus provide the maximum benifites to the stakeholders. We have calculated the density of the resturants \n",
    "using the Four square data and thus identified the places with less density which in turn minimizes the competition. Clustering\n",
    "of these locations to understand the different types of resturants present and this will facilitate to understand the more potential\n",
    "locations.\n",
    "\n",
    "Also we have then analyzed some of the other important aspects which will affect the business such as the proximity of the\n",
    "location to important business centers and residential locations as well as the socail and economical standards of the neighborhood."
   ]
  }
 ],
 "metadata": {
  "kernelspec": {
   "display_name": "Python 3",
   "language": "python",
   "name": "python3"
  },
  "language_info": {
   "codemirror_mode": {
    "name": "ipython",
    "version": 3
   },
   "file_extension": ".py",
   "mimetype": "text/x-python",
   "name": "python",
   "nbconvert_exporter": "python",
   "pygments_lexer": "ipython3",
   "version": "3.7.6"
  }
 },
 "nbformat": 4,
 "nbformat_minor": 4
}
